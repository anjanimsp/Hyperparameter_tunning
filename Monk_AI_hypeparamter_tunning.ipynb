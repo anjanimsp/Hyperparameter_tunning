{
 "cells": [
  {
   "cell_type": "code",
   "execution_count": 1,
   "metadata": {},
   "outputs": [],
   "source": [
    "import os\n",
    "import sys\n",
    "sys.path.append(\"./monk/\");\n",
    "import psutil\n",
    "from pytorch_prototype import prototype"
   ]
  },
  {
   "cell_type": "code",
   "execution_count": 2,
   "metadata": {},
   "outputs": [
    {
     "name": "stdout",
     "output_type": "stream",
     "text": [
      "Pytorch Version: 1.6.0\n",
      "\n",
      "Experiment Details\n",
      "    Project: dog-cat\n",
      "    Experiment: exp1\n",
      "    Dir: /home/anjani/Desktop/AS DOC/iNeuron/Hyperparameter_tunning/keras-tuner/Monk_AI_Hyperparameter_tunning/workspace/dog-cat/exp1/\n",
      "\n"
     ]
    }
   ],
   "source": [
    "### step-1 create a experiment\n",
    "ptf = prototype(verbose=1);\n",
    "ptf.Prototype(\"dog-cat\", \"exp1\");"
   ]
  },
  {
   "cell_type": "code",
   "execution_count": 3,
   "metadata": {},
   "outputs": [
    {
     "name": "stdout",
     "output_type": "stream",
     "text": [
      "Dataset Details\n",
      "    Train path:     /home/anjani/Desktop/AS DOC/iNeuron/classifer_practice_dataset/Dataset/Train\n",
      "    Val path:       /home/anjani/Desktop/AS DOC/iNeuron/classifer_practice_dataset/Dataset/Test\n",
      "    CSV train path: None\n",
      "    CSV val path:   None\n",
      "    Label Type:     single\n",
      "\n",
      "Dataset Params\n",
      "    Input Size:  224\n",
      "    Batch Size:  4\n",
      "    Data Shuffle: True\n",
      "    Processors:   4\n",
      "\n",
      "Pre-Composed Train Transforms\n",
      "[{'RandomHorizontalFlip': {'p': 0.8}}, {'Normalize': {'mean': [0.485, 0.456, 0.406], 'std': [0.229, 0.224, 0.225]}}]\n",
      "\n",
      "Pre-Composed Val Transforms\n",
      "[{'RandomHorizontalFlip': {'p': 0.8}}, {'Normalize': {'mean': [0.485, 0.456, 0.406], 'std': [0.229, 0.224, 0.225]}}]\n",
      "\n",
      "Dataset Numbers\n",
      "    Num train images: 11\n",
      "    Num val images:   10\n",
      "    Num classes:      2\n",
      "\n",
      "Model Params\n",
      "    Model name:           resnet18\n",
      "    Use Gpu:              False\n",
      "    Use pretrained:       True\n",
      "    Freeze base network:  True\n",
      "\n",
      "Model Details\n",
      "    Loading pretrained model\n",
      "    Model Loaded on device\n",
      "        Model name:                           resnet18\n",
      "        Num layers in model:  41\n",
      "        Num trainable layers: 1\n",
      "\n",
      "Optimizer\n",
      "    Name:          sgd\n",
      "    Learning rate: 0.01\n",
      "    Params:        {'lr': 0.01, 'momentum': 0, 'weight_decay': 0, 'momentum_dampening_rate': 0, 'clipnorm': 0.0, 'clipvalue': 0.0}\n",
      "\n",
      "\n",
      "\n",
      "Learning rate scheduler\n",
      "    Name:   reduceonplateaulr\n",
      "    Params: {'mode': 'min', 'factor': 0.1, 'patience': 1, 'verbose': True, 'threshold': 0.0001, 'threshold_mode': 'rel', 'cooldown': 0, 'min_lr': 0, 'epsilon': 1e-08}\n",
      "\n",
      "Loss\n",
      "    Name:          softmaxcrossentropy\n",
      "    Params:        {'weight': None, 'batch_axis': 0, 'axis_to_sum_over': -1, 'label_as_categories': True, 'label_smoothing': False}\n",
      "\n",
      "Training params\n",
      "    Num Epochs: 2\n",
      "\n",
      "Display params\n",
      "    Display progress:          True\n",
      "    Display progress realtime: True\n",
      "    Save Training logs:        True\n",
      "    Save Intermediate models:  True\n",
      "    Intermediate model prefix: intermediate_model_\n",
      "\n"
     ]
    }
   ],
   "source": [
    "## dataset path\n",
    "ptf.Default(dataset_path=[\"/home/anjani/Desktop/AS DOC/iNeuron/classifer_practice_dataset/Dataset/Train\",\"/home/anjani/Desktop/AS DOC/iNeuron/classifer_practice_dataset/Dataset/Test\"], model_name=\"resnet18\", freeze_base_network=True, num_epochs=2)"
   ]
  },
  {
   "cell_type": "markdown",
   "metadata": {},
   "source": [
    "## Quick Model finder"
   ]
  },
  {
   "cell_type": "code",
   "execution_count": 5,
   "metadata": {},
   "outputs": [
    {
     "name": "stdout",
     "output_type": "stream",
     "text": [
      "\n",
      "Running Model analysis\n",
      "Analysis Name      : Model_Finder\n",
      "\n",
      "Running experiment : 1/5\n",
      "Experiment name    : Model_resnet34_freeze_base_pretrained\n"
     ]
    },
    {
     "name": "stderr",
     "output_type": "stream",
     "text": [
      "Downloading: \"https://download.pytorch.org/models/resnet34-333f7ec4.pth\" to /home/anjani/.cache/torch/hub/checkpoints/resnet34-333f7ec4.pth\n"
     ]
    },
    {
     "data": {
      "application/vnd.jupyter.widget-view+json": {
       "model_id": "5ee440435189485885b3c7b1b08315c1",
       "version_major": 2,
       "version_minor": 0
      },
      "text/plain": [
       "HBox(children=(IntProgress(value=0, max=87306240), HTML(value='')))"
      ]
     },
     "metadata": {},
     "output_type": "display_data"
    },
    {
     "name": "stdout",
     "output_type": "stream",
     "text": [
      "\n",
      "Estimated time     : 3 min\n",
      "Epoch     3: reducing learning rate of group 0 to 1.0000e-03.\n",
      "Experiment Complete\n",
      "\n",
      "\n",
      "Running experiment : 2/5\n",
      "Experiment name    : Model_resnet50_unfreeze_base_pretrained\n"
     ]
    },
    {
     "name": "stderr",
     "output_type": "stream",
     "text": [
      "Downloading: \"https://download.pytorch.org/models/resnet50-19c8e357.pth\" to /home/anjani/.cache/torch/hub/checkpoints/resnet50-19c8e357.pth\n"
     ]
    },
    {
     "data": {
      "application/vnd.jupyter.widget-view+json": {
       "model_id": "7a018515bcd24a3f8e9a7b4aa86f6edc",
       "version_major": 2,
       "version_minor": 0
      },
      "text/plain": [
       "HBox(children=(IntProgress(value=0, max=102502400), HTML(value='')))"
      ]
     },
     "metadata": {},
     "output_type": "display_data"
    },
    {
     "name": "stdout",
     "output_type": "stream",
     "text": [
      "\n",
      "Estimated time     : 11 min\n",
      "Experiment Complete\n",
      "\n",
      "\n",
      "Running experiment : 3/5\n",
      "Experiment name    : Model_densenet121_unfreeze_base_pretrained\n"
     ]
    },
    {
     "name": "stderr",
     "output_type": "stream",
     "text": [
      "Downloading: \"https://download.pytorch.org/models/densenet121-a639ec97.pth\" to /home/anjani/.cache/torch/hub/checkpoints/densenet121-a639ec97.pth\n"
     ]
    },
    {
     "data": {
      "application/vnd.jupyter.widget-view+json": {
       "model_id": "be72d8afbd364b0eb519ff741f1a03d8",
       "version_major": 2,
       "version_minor": 0
      },
      "text/plain": [
       "HBox(children=(IntProgress(value=0, max=32342954), HTML(value='')))"
      ]
     },
     "metadata": {},
     "output_type": "display_data"
    },
    {
     "name": "stdout",
     "output_type": "stream",
     "text": [
      "\n",
      "Estimated time     : 11 min\n",
      "Experiment Complete\n",
      "\n",
      "\n",
      "Running experiment : 4/5\n",
      "Experiment name    : Model_densenet169_freeze_base_pretrained\n"
     ]
    },
    {
     "name": "stderr",
     "output_type": "stream",
     "text": [
      "Downloading: \"https://download.pytorch.org/models/densenet169-b2777c0a.pth\" to /home/anjani/.cache/torch/hub/checkpoints/densenet169-b2777c0a.pth\n"
     ]
    },
    {
     "data": {
      "application/vnd.jupyter.widget-view+json": {
       "model_id": "a0315c7acc234c788f2450ae465c078c",
       "version_major": 2,
       "version_minor": 0
      },
      "text/plain": [
       "HBox(children=(IntProgress(value=0, max=57365526), HTML(value='')))"
      ]
     },
     "metadata": {},
     "output_type": "display_data"
    },
    {
     "name": "stdout",
     "output_type": "stream",
     "text": [
      "\n",
      "Estimated time     : 4 min\n",
      "Experiment Complete\n",
      "\n",
      "\n",
      "Running experiment : 5/5\n",
      "Experiment name    : Model_densenet201_freeze_base_pretrained\n"
     ]
    },
    {
     "name": "stderr",
     "output_type": "stream",
     "text": [
      "Downloading: \"https://download.pytorch.org/models/densenet201-c1103571.pth\" to /home/anjani/.cache/torch/hub/checkpoints/densenet201-c1103571.pth\n"
     ]
    },
    {
     "data": {
      "application/vnd.jupyter.widget-view+json": {
       "model_id": "2fac3756a4934f2ca7c12e7aafde7d97",
       "version_major": 2,
       "version_minor": 0
      },
      "text/plain": [
       "HBox(children=(IntProgress(value=0, max=81131730), HTML(value='')))"
      ]
     },
     "metadata": {},
     "output_type": "display_data"
    },
    {
     "name": "stdout",
     "output_type": "stream",
     "text": [
      "\n",
      "Estimated time     : 4 min\n",
      "Epoch     5: reducing learning rate of group 0 to 1.0000e-03.\n",
      "Experiment Complete\n",
      "\n",
      "\n",
      "Comparing Experiments\n",
      "Comparison ID:      Comparison_Model_Finder\n",
      "Generated statistics post all epochs\n",
      "| Experiment Name                            |   Train Acc |   Val Acc |   Train Loss |   Val Loss |\n",
      "|--------------------------------------------+-------------+-----------+--------------+------------|\n",
      "| Model_resnet34_freeze_base_pretrained      |    0.818182 |       0.9 |    0.455569  |  0.253591  |\n",
      "| Model_resnet50_unfreeze_base_pretrained    |    1        |       1   |    0.0721882 |  0.0734492 |\n",
      "| Model_densenet121_unfreeze_base_pretrained |    1        |       1   |    0.01818   |  0.0611622 |\n",
      "| Model_densenet169_freeze_base_pretrained   |    1        |       1   |    0.162413  |  0.130441  |\n",
      "| Model_densenet201_freeze_base_pretrained   |    0.727273 |       0.9 |    0.890403  |  0.25559   |\n",
      "\n"
     ]
    },
    {
     "data": {
      "text/plain": [
       "<Figure size 432x288 with 0 Axes>"
      ]
     },
     "metadata": {},
     "output_type": "display_data"
    },
    {
     "data": {
      "text/plain": [
       "<Figure size 1440x720 with 0 Axes>"
      ]
     },
     "metadata": {},
     "output_type": "display_data"
    },
    {
     "data": {
      "text/plain": [
       "<Figure size 1440x720 with 0 Axes>"
      ]
     },
     "metadata": {},
     "output_type": "display_data"
    },
    {
     "data": {
      "text/plain": [
       "<Figure size 1440x720 with 0 Axes>"
      ]
     },
     "metadata": {},
     "output_type": "display_data"
    },
    {
     "data": {
      "text/plain": [
       "<Figure size 1440x720 with 0 Axes>"
      ]
     },
     "metadata": {},
     "output_type": "display_data"
    }
   ],
   "source": [
    "\"\"\"\n",
    "First element in the list- Model Name\n",
    "Second element in the list - Boolean value to freeze base network or not\n",
    "Third element in the list - Boolean value to use pretrained model as the starting point or not\n",
    "\"\"\"\n",
    "analysis_name = \"Model_Finder\";\n",
    "\n",
    "models = [[\"resnet34\", True, True], [\"resnet50\", False, True], \n",
    "    [\"densenet121\", False, True], [\"densenet169\", True, True], [\"densenet201\", True, True]];  \n",
    "\n",
    "epochs=5;\n",
    "\n",
    "percent_data=100;\n",
    "\n",
    "ptf.Analyse_Models(analysis_name, models, percent_data, num_epochs=epochs, state=\"keep_none\"); \n",
    "\n"
   ]
  },
  {
   "cell_type": "markdown",
   "metadata": {},
   "source": [
    "## Update Model Architecture"
   ]
  },
  {
   "cell_type": "code",
   "execution_count": 6,
   "metadata": {},
   "outputs": [
    {
     "name": "stdout",
     "output_type": "stream",
     "text": [
      "Update: Model name - densenet121\n",
      "\n",
      "Update: Freeze Base Network - True\n",
      "\n",
      "Update: Use pretrained - True\n",
      "\n",
      "Pre-Composed Train Transforms\n",
      "[{'RandomHorizontalFlip': {'p': 0.8}}, {'Normalize': {'mean': [0.485, 0.456, 0.406], 'std': [0.229, 0.224, 0.225]}}]\n",
      "\n",
      "Pre-Composed Val Transforms\n",
      "[{'RandomHorizontalFlip': {'p': 0.8}}, {'Normalize': {'mean': [0.485, 0.456, 0.406], 'std': [0.229, 0.224, 0.225]}}]\n",
      "\n",
      "Dataset Numbers\n",
      "    Num train images: 11\n",
      "    Num val images:   10\n",
      "    Num classes:      2\n",
      "\n",
      "Model Details\n",
      "    Loading pretrained model\n",
      "    Model Loaded on device\n",
      "        Model name:                           densenet121\n",
      "        Num layers in model:  242\n",
      "        Num trainable layers: 1\n",
      "\n"
     ]
    }
   ],
   "source": [
    "ptf.update_model_name(\"densenet121\");\n",
    "ptf.update_freeze_base_network(True);\n",
    "ptf.update_use_pretrained(True);\n",
    "ptf.Reload();"
   ]
  },
  {
   "cell_type": "markdown",
   "metadata": {},
   "source": [
    "### Continue training the model"
   ]
  },
  {
   "cell_type": "code",
   "execution_count": 7,
   "metadata": {},
   "outputs": [
    {
     "name": "stdout",
     "output_type": "stream",
     "text": [
      "Training Start\n",
      "    Epoch 1/2\n",
      "    ----------\n"
     ]
    },
    {
     "data": {
      "application/vnd.jupyter.widget-view+json": {
       "model_id": "cbef1d320bf04828bf7fff5c620f0f9f",
       "version_major": 2,
       "version_minor": 0
      },
      "text/plain": [
       "HBox(children=(IntProgress(value=0, max=3), HTML(value='')))"
      ]
     },
     "metadata": {},
     "output_type": "display_data"
    },
    {
     "data": {
      "application/vnd.jupyter.widget-view+json": {
       "model_id": "5764fa4e176b4c73a5d5181c2daf57bb",
       "version_major": 2,
       "version_minor": 0
      },
      "text/plain": [
       "HBox(children=(IntProgress(value=0, max=3), HTML(value='')))"
      ]
     },
     "metadata": {},
     "output_type": "display_data"
    },
    {
     "name": "stdout",
     "output_type": "stream",
     "text": [
      "\n",
      "\n",
      "    curr_lr - 0.01\n",
      "    [Epoch 1] Train-acc: 0.545, Train-loss: 0.760 | Val-acc: 0.500000, Val-loss: 1.170, | time: 6.9 sec\n",
      "\n",
      "    Epoch 2/2\n",
      "    ----------\n"
     ]
    },
    {
     "data": {
      "application/vnd.jupyter.widget-view+json": {
       "model_id": "3c18c5a004dc40b6a5a6d2bb419d301a",
       "version_major": 2,
       "version_minor": 0
      },
      "text/plain": [
       "HBox(children=(IntProgress(value=0, max=3), HTML(value='')))"
      ]
     },
     "metadata": {},
     "output_type": "display_data"
    },
    {
     "data": {
      "application/vnd.jupyter.widget-view+json": {
       "model_id": "bf2c3a8c165a4fb88eaaab10b5cd296e",
       "version_major": 2,
       "version_minor": 0
      },
      "text/plain": [
       "HBox(children=(IntProgress(value=0, max=3), HTML(value='')))"
      ]
     },
     "metadata": {},
     "output_type": "display_data"
    },
    {
     "name": "stdout",
     "output_type": "stream",
     "text": [
      "\n",
      "\n",
      "    curr_lr - 0.01\n",
      "    [Epoch 2] Train-acc: 0.545, Train-loss: 0.945 | Val-acc: 0.600000, Val-loss: 0.468, | time: 10.2 sec\n",
      "\n",
      "    Training completed in: 0m 16s\n",
      "    Best val Acc:          0.600000\n",
      "\n",
      "Training End\n",
      "\n",
      "Training Outputs\n",
      "    Model Dir:   /home/anjani/Desktop/AS DOC/iNeuron/Hyperparameter_tunning/keras-tuner/Monk_AI_Hyperparameter_tunning/workspace/dog-cat/exp1/output/models/\n",
      "    Log Dir:     /home/anjani/Desktop/AS DOC/iNeuron/Hyperparameter_tunning/keras-tuner/Monk_AI_Hyperparameter_tunning/workspace/dog-cat/exp1/output/logs/\n",
      "    Final model: final\n",
      "    Best model:  best_model\n",
      "    Log 1 - Validation accuracy history log: val_acc_history.npy\n",
      "    Log 2 - Validation loss history log:     val_loss_history.npy\n",
      "    Log 3 - Training accuracy history log:   train_acc_history.npy\n",
      "    Log 4 - Training loss history log:       train_loss_history.npy\n",
      "    Log 5 - Training curve:                  train_loss_history.npy\n",
      "    Log 6 - Validation curve:                train_loss_history.npy\n",
      "\n"
     ]
    },
    {
     "data": {
      "text/plain": [
       "<Figure size 432x288 with 0 Axes>"
      ]
     },
     "metadata": {},
     "output_type": "display_data"
    }
   ],
   "source": [
    "ptf.Train()"
   ]
  },
  {
   "cell_type": "markdown",
   "metadata": {},
   "source": [
    "### Batch Size Finder"
   ]
  },
  {
   "cell_type": "code",
   "execution_count": null,
   "metadata": {},
   "outputs": [],
   "source": [
    "analysis_name = \"Batch_Size_Finder\";"
   ]
  },
  {
   "cell_type": "code",
   "execution_count": 8,
   "metadata": {},
   "outputs": [],
   "source": [
    "batch_sizes = [2,4, 6,8]; "
   ]
  },
  {
   "cell_type": "code",
   "execution_count": 10,
   "metadata": {},
   "outputs": [],
   "source": [
    "epochs=5;\n",
    "percent_data=100;"
   ]
  },
  {
   "cell_type": "code",
   "execution_count": 11,
   "metadata": {},
   "outputs": [
    {
     "name": "stdout",
     "output_type": "stream",
     "text": [
      "\n",
      "Running Batch Size analysis\n",
      "Analysis Name      : Model_Finder\n",
      "\n",
      "Running experiment : 1/4\n",
      "Experiment name    : Batch_Size_2\n",
      "Estimated time     : 2 min\n",
      "Experiment Complete\n",
      "\n",
      "\n",
      "Running experiment : 2/4\n",
      "Experiment name    : Batch_Size_4\n",
      "Estimated time     : 5 min\n",
      "Experiment Complete\n",
      "\n",
      "\n",
      "Running experiment : 3/4\n",
      "Experiment name    : Batch_Size_6\n",
      "Estimated time     : 6 min\n",
      "Experiment Complete\n",
      "\n",
      "\n",
      "Running experiment : 4/4\n",
      "Experiment name    : Batch_Size_8\n",
      "Estimated time     : 10 min\n",
      "Experiment Complete\n",
      "\n",
      "\n",
      "Comparing Experiments\n",
      "Comparison ID:      Comparison_Model_Finder\n",
      "Generated statistics post all epochs\n",
      "| Experiment Name   |   Train Acc |   Val Acc |   Train Loss |   Val Loss |\n",
      "|-------------------+-------------+-----------+--------------+------------|\n",
      "| Batch_Size_2      |    0.454545 |       0.5 |     1.85332  |   1.0839   |\n",
      "| Batch_Size_4      |    1        |       1   |     0.154914 |   0.157067 |\n",
      "| Batch_Size_6      |    1        |       1   |     0.151283 |   0.204763 |\n",
      "| Batch_Size_8      |    1        |       1   |     0.138896 |   0.19777  |\n",
      "\n"
     ]
    },
    {
     "data": {
      "text/plain": [
       "<Figure size 432x288 with 0 Axes>"
      ]
     },
     "metadata": {},
     "output_type": "display_data"
    },
    {
     "data": {
      "text/plain": [
       "<Figure size 1440x720 with 0 Axes>"
      ]
     },
     "metadata": {},
     "output_type": "display_data"
    },
    {
     "data": {
      "text/plain": [
       "<Figure size 1440x720 with 0 Axes>"
      ]
     },
     "metadata": {},
     "output_type": "display_data"
    },
    {
     "data": {
      "text/plain": [
       "<Figure size 1440x720 with 0 Axes>"
      ]
     },
     "metadata": {},
     "output_type": "display_data"
    },
    {
     "data": {
      "text/plain": [
       "<Figure size 1440x720 with 0 Axes>"
      ]
     },
     "metadata": {},
     "output_type": "display_data"
    }
   ],
   "source": [
    "ptf.Analyse_Batch_Sizes(analysis_name, batch_sizes, percent_data, num_epochs=epochs, state=\"keep_none\"); "
   ]
  },
  {
   "cell_type": "code",
   "execution_count": 12,
   "metadata": {},
   "outputs": [
    {
     "name": "stdout",
     "output_type": "stream",
     "text": [
      "Update: Batch size - 4\n",
      "\n",
      "Pre-Composed Train Transforms\n",
      "[{'RandomHorizontalFlip': {'p': 0.8}}, {'Normalize': {'mean': [0.485, 0.456, 0.406], 'std': [0.229, 0.224, 0.225]}}]\n",
      "\n",
      "Pre-Composed Val Transforms\n",
      "[{'RandomHorizontalFlip': {'p': 0.8}}, {'Normalize': {'mean': [0.485, 0.456, 0.406], 'std': [0.229, 0.224, 0.225]}}]\n",
      "\n",
      "Dataset Numbers\n",
      "    Num train images: 11\n",
      "    Num val images:   10\n",
      "    Num classes:      2\n",
      "\n",
      "Model Details\n",
      "    Loading pretrained model\n",
      "    Model Loaded on device\n",
      "        Model name:                           densenet121\n",
      "        Num layers in model:  242\n",
      "        Num trainable layers: 1\n",
      "\n"
     ]
    }
   ],
   "source": [
    "## Update Batch Size\n",
    "ptf.update_batch_size(4);\n",
    "ptf.Reload();"
   ]
  },
  {
   "cell_type": "code",
   "execution_count": 13,
   "metadata": {},
   "outputs": [
    {
     "name": "stdout",
     "output_type": "stream",
     "text": [
      "Training Start\n",
      "    Epoch 1/2\n",
      "    ----------\n"
     ]
    },
    {
     "data": {
      "application/vnd.jupyter.widget-view+json": {
       "model_id": "ef3a9d17e1004b2c83432e88f66f2d2a",
       "version_major": 2,
       "version_minor": 0
      },
      "text/plain": [
       "HBox(children=(IntProgress(value=0, max=3), HTML(value='')))"
      ]
     },
     "metadata": {},
     "output_type": "display_data"
    },
    {
     "data": {
      "application/vnd.jupyter.widget-view+json": {
       "model_id": "e50b1d64ee1143ecb464c6dc5d8a48d8",
       "version_major": 2,
       "version_minor": 0
      },
      "text/plain": [
       "HBox(children=(IntProgress(value=0, max=3), HTML(value='')))"
      ]
     },
     "metadata": {},
     "output_type": "display_data"
    },
    {
     "name": "stdout",
     "output_type": "stream",
     "text": [
      "\n",
      "\n",
      "    curr_lr - 0.01\n",
      "    [Epoch 1] Train-acc: 0.182, Train-loss: 0.794 | Val-acc: 0.400000, Val-loss: 0.827, | time: 11.2 sec\n",
      "\n",
      "    Epoch 2/2\n",
      "    ----------\n"
     ]
    },
    {
     "data": {
      "application/vnd.jupyter.widget-view+json": {
       "model_id": "b35d403ac11a4d6d901672297fdc6958",
       "version_major": 2,
       "version_minor": 0
      },
      "text/plain": [
       "HBox(children=(IntProgress(value=0, max=3), HTML(value='')))"
      ]
     },
     "metadata": {},
     "output_type": "display_data"
    },
    {
     "data": {
      "application/vnd.jupyter.widget-view+json": {
       "model_id": "48bd2430fd944c399e8c4b9a5f0ed331",
       "version_major": 2,
       "version_minor": 0
      },
      "text/plain": [
       "HBox(children=(IntProgress(value=0, max=3), HTML(value='')))"
      ]
     },
     "metadata": {},
     "output_type": "display_data"
    },
    {
     "name": "stdout",
     "output_type": "stream",
     "text": [
      "Epoch     4: reducing learning rate of group 0 to 1.0000e-03.\n",
      "\n",
      "\n",
      "    curr_lr - 0.001\n",
      "    [Epoch 2] Train-acc: 0.273, Train-loss: 0.825 | Val-acc: 0.400000, Val-loss: 0.817, | time: 13.0 sec\n",
      "\n",
      "    Training completed in: 0m 38s\n",
      "    Best val Acc:          0.400000\n",
      "\n",
      "Training End\n",
      "\n",
      "Training Outputs\n",
      "    Model Dir:   /home/anjani/Desktop/AS DOC/iNeuron/Hyperparameter_tunning/keras-tuner/Monk_AI_Hyperparameter_tunning/workspace/dog-cat/exp1/output/models/\n",
      "    Log Dir:     /home/anjani/Desktop/AS DOC/iNeuron/Hyperparameter_tunning/keras-tuner/Monk_AI_Hyperparameter_tunning/workspace/dog-cat/exp1/output/logs/\n",
      "    Final model: final\n",
      "    Best model:  best_model\n",
      "    Log 1 - Validation accuracy history log: val_acc_history.npy\n",
      "    Log 2 - Validation loss history log:     val_loss_history.npy\n",
      "    Log 3 - Training accuracy history log:   train_acc_history.npy\n",
      "    Log 4 - Training loss history log:       train_loss_history.npy\n",
      "    Log 5 - Training curve:                  train_loss_history.npy\n",
      "    Log 6 - Validation curve:                train_loss_history.npy\n",
      "\n"
     ]
    },
    {
     "data": {
      "text/plain": [
       "<Figure size 432x288 with 0 Axes>"
      ]
     },
     "metadata": {},
     "output_type": "display_data"
    }
   ],
   "source": [
    "ptf.Train()"
   ]
  },
  {
   "cell_type": "markdown",
   "metadata": {},
   "source": [
    "### Input Dimension Finder"
   ]
  },
  {
   "cell_type": "code",
   "execution_count": 14,
   "metadata": {},
   "outputs": [],
   "source": [
    "analysis_name = \"Input_Size_Finder\";"
   ]
  },
  {
   "cell_type": "code",
   "execution_count": 15,
   "metadata": {},
   "outputs": [],
   "source": [
    "input_sizes = [224, 256, 512];\n",
    "epochs=5;"
   ]
  },
  {
   "cell_type": "code",
   "execution_count": 16,
   "metadata": {},
   "outputs": [],
   "source": [
    "percent_data=100;"
   ]
  },
  {
   "cell_type": "code",
   "execution_count": 17,
   "metadata": {},
   "outputs": [
    {
     "name": "stdout",
     "output_type": "stream",
     "text": [
      "\n",
      "Running Input Size analysis\n",
      "Analysis Name      : Input_Size_Finder\n",
      "\n",
      "Running experiment : 1/3\n",
      "Experiment name    : Input_Size_224\n",
      "Estimated time     : 4 min\n",
      "Experiment Complete\n",
      "\n",
      "\n",
      "Running experiment : 2/3\n",
      "Experiment name    : Input_Size_256\n",
      "Estimated time     : 5 min\n",
      "Experiment Complete\n",
      "\n",
      "\n",
      "Running experiment : 3/3\n",
      "Experiment name    : Input_Size_512\n",
      "Estimated time     : 5 min\n",
      "Experiment Complete\n",
      "\n",
      "\n",
      "Comparing Experiments\n",
      "Comparison ID:      Comparison_Input_Size_Finder\n",
      "Generated statistics post all epochs\n",
      "| Experiment Name   |   Train Acc |   Val Acc |   Train Loss |   Val Loss |\n",
      "|-------------------+-------------+-----------+--------------+------------|\n",
      "| Input_Size_224    |    0.272727 |       1   |     1.93234  |  0.0710977 |\n",
      "| Input_Size_256    |    1        |       1   |     0.23554  |  0.246527  |\n",
      "| Input_Size_512    |    0.818182 |       0.9 |     0.274453 |  0.219661  |\n",
      "\n"
     ]
    },
    {
     "data": {
      "text/plain": [
       "<Figure size 432x288 with 0 Axes>"
      ]
     },
     "metadata": {},
     "output_type": "display_data"
    },
    {
     "data": {
      "text/plain": [
       "<Figure size 1440x720 with 0 Axes>"
      ]
     },
     "metadata": {},
     "output_type": "display_data"
    },
    {
     "data": {
      "text/plain": [
       "<Figure size 1440x720 with 0 Axes>"
      ]
     },
     "metadata": {},
     "output_type": "display_data"
    },
    {
     "data": {
      "text/plain": [
       "<Figure size 1440x720 with 0 Axes>"
      ]
     },
     "metadata": {},
     "output_type": "display_data"
    },
    {
     "data": {
      "text/plain": [
       "<Figure size 1440x720 with 0 Axes>"
      ]
     },
     "metadata": {},
     "output_type": "display_data"
    }
   ],
   "source": [
    "ptf.Analyse_Input_Sizes(analysis_name, input_sizes, percent_data, num_epochs=epochs, state=\"keep_none\"); "
   ]
  },
  {
   "cell_type": "code",
   "execution_count": 18,
   "metadata": {},
   "outputs": [
    {
     "name": "stdout",
     "output_type": "stream",
     "text": [
      "Update: Input size - 256\n",
      "\n",
      "Pre-Composed Train Transforms\n",
      "[{'RandomHorizontalFlip': {'p': 0.8}}, {'Normalize': {'mean': [0.485, 0.456, 0.406], 'std': [0.229, 0.224, 0.225]}}]\n",
      "\n",
      "Pre-Composed Val Transforms\n",
      "[{'RandomHorizontalFlip': {'p': 0.8}}, {'Normalize': {'mean': [0.485, 0.456, 0.406], 'std': [0.229, 0.224, 0.225]}}]\n",
      "\n",
      "Dataset Numbers\n",
      "    Num train images: 11\n",
      "    Num val images:   10\n",
      "    Num classes:      2\n",
      "\n",
      "Model Details\n",
      "    Loading pretrained model\n",
      "    Model Loaded on device\n",
      "        Model name:                           densenet121\n",
      "        Num layers in model:  242\n",
      "        Num trainable layers: 1\n",
      "\n"
     ]
    }
   ],
   "source": [
    "## Update Input Size\n",
    "ptf.update_input_size(256);\n",
    "ptf.Reload();"
   ]
  },
  {
   "cell_type": "code",
   "execution_count": 19,
   "metadata": {},
   "outputs": [
    {
     "name": "stdout",
     "output_type": "stream",
     "text": [
      "Training Start\n",
      "    Epoch 1/2\n",
      "    ----------\n"
     ]
    },
    {
     "data": {
      "application/vnd.jupyter.widget-view+json": {
       "model_id": "790abada63a54affa179f5463294e153",
       "version_major": 2,
       "version_minor": 0
      },
      "text/plain": [
       "HBox(children=(IntProgress(value=0, max=3), HTML(value='')))"
      ]
     },
     "metadata": {},
     "output_type": "display_data"
    },
    {
     "data": {
      "application/vnd.jupyter.widget-view+json": {
       "model_id": "b4ca753aebad419dba1f6be80bf36bf2",
       "version_major": 2,
       "version_minor": 0
      },
      "text/plain": [
       "HBox(children=(IntProgress(value=0, max=3), HTML(value='')))"
      ]
     },
     "metadata": {},
     "output_type": "display_data"
    },
    {
     "name": "stdout",
     "output_type": "stream",
     "text": [
      "\n",
      "\n",
      "    curr_lr - 0.001\n",
      "    [Epoch 1] Train-acc: 0.545, Train-loss: 0.598 | Val-acc: 0.500000, Val-loss: 0.826, | time: 13.5 sec\n",
      "\n",
      "    Epoch 2/2\n",
      "    ----------\n"
     ]
    },
    {
     "data": {
      "application/vnd.jupyter.widget-view+json": {
       "model_id": "34522bd9e438409781927d4f62bde824",
       "version_major": 2,
       "version_minor": 0
      },
      "text/plain": [
       "HBox(children=(IntProgress(value=0, max=3), HTML(value='')))"
      ]
     },
     "metadata": {},
     "output_type": "display_data"
    },
    {
     "data": {
      "application/vnd.jupyter.widget-view+json": {
       "model_id": "53f2ddf30c3049c989e3817ac4208beb",
       "version_major": 2,
       "version_minor": 0
      },
      "text/plain": [
       "HBox(children=(IntProgress(value=0, max=3), HTML(value='')))"
      ]
     },
     "metadata": {},
     "output_type": "display_data"
    },
    {
     "name": "stdout",
     "output_type": "stream",
     "text": [
      "Epoch     6: reducing learning rate of group 0 to 1.0000e-04.\n",
      "\n",
      "\n",
      "    curr_lr - 0.0001\n",
      "    [Epoch 2] Train-acc: 0.545, Train-loss: 0.674 | Val-acc: 0.500000, Val-loss: 0.822, | time: 13.8 sec\n",
      "\n",
      "    Training completed in: 1m 4s\n",
      "    Best val Acc:          0.500000\n",
      "\n",
      "Training End\n",
      "\n",
      "Training Outputs\n",
      "    Model Dir:   /home/anjani/Desktop/AS DOC/iNeuron/Hyperparameter_tunning/keras-tuner/Monk_AI_Hyperparameter_tunning/workspace/dog-cat/exp1/output/models/\n",
      "    Log Dir:     /home/anjani/Desktop/AS DOC/iNeuron/Hyperparameter_tunning/keras-tuner/Monk_AI_Hyperparameter_tunning/workspace/dog-cat/exp1/output/logs/\n",
      "    Final model: final\n",
      "    Best model:  best_model\n",
      "    Log 1 - Validation accuracy history log: val_acc_history.npy\n",
      "    Log 2 - Validation loss history log:     val_loss_history.npy\n",
      "    Log 3 - Training accuracy history log:   train_acc_history.npy\n",
      "    Log 4 - Training loss history log:       train_loss_history.npy\n",
      "    Log 5 - Training curve:                  train_loss_history.npy\n",
      "    Log 6 - Validation curve:                train_loss_history.npy\n",
      "\n"
     ]
    },
    {
     "data": {
      "text/plain": [
       "<Figure size 432x288 with 0 Axes>"
      ]
     },
     "metadata": {},
     "output_type": "display_data"
    }
   ],
   "source": [
    "ptf.Train()"
   ]
  },
  {
   "cell_type": "markdown",
   "metadata": {},
   "source": [
    "### Learning Rate Finder"
   ]
  },
  {
   "cell_type": "code",
   "execution_count": 21,
   "metadata": {},
   "outputs": [],
   "source": [
    "analysis_name = \"Learning_Rate_Finder\""
   ]
  },
  {
   "cell_type": "code",
   "execution_count": 22,
   "metadata": {},
   "outputs": [],
   "source": [
    "lrs = [0.01, 0.005, 0.001, 0.0001]; \n",
    "epochs=5;"
   ]
  },
  {
   "cell_type": "code",
   "execution_count": 23,
   "metadata": {},
   "outputs": [],
   "source": [
    "percent_data=100;"
   ]
  },
  {
   "cell_type": "code",
   "execution_count": 24,
   "metadata": {},
   "outputs": [
    {
     "name": "stdout",
     "output_type": "stream",
     "text": [
      "\n",
      "Running Learning rate analysis\n",
      "Analysis Name      : Learning_Rate_Finder\n",
      "\n",
      "Running experiment : 1/4\n",
      "Experiment name    : Learning_Rate_0.01\n",
      "Estimated time     : 6 min\n",
      "Epoch     3: reducing learning rate of group 0 to 1.0000e-03.\n",
      "Experiment Complete\n",
      "\n",
      "\n",
      "Running experiment : 2/4\n",
      "Experiment name    : Learning_Rate_0.005\n",
      "Estimated time     : 8 min\n",
      "Experiment Complete\n",
      "\n",
      "\n",
      "Running experiment : 3/4\n",
      "Experiment name    : Learning_Rate_0.001\n",
      "Estimated time     : 9 min\n",
      "Experiment Complete\n",
      "\n",
      "\n",
      "Running experiment : 4/4\n",
      "Experiment name    : Learning_Rate_0.0001\n",
      "Estimated time     : 12 min\n",
      "Experiment Complete\n",
      "\n",
      "\n",
      "Comparing Experiments\n",
      "Comparison ID:      Comparison_Learning_Rate_Finder\n",
      "Generated statistics post all epochs\n",
      "| Experiment Name      |   Train Acc |   Val Acc |   Train Loss |   Val Loss |\n",
      "|----------------------+-------------+-----------+--------------+------------|\n",
      "| Learning_Rate_0.01   |    0.909091 |       0.7 |     0.249191 |   0.420643 |\n",
      "| Learning_Rate_0.005  |    0.727273 |       0.8 |     0.673169 |   0.374161 |\n",
      "| Learning_Rate_0.001  |    0.818182 |       0.9 |     0.523057 |   0.575621 |\n",
      "| Learning_Rate_0.0001 |    0.545455 |       0.1 |     0.721031 |   0.854005 |\n",
      "\n"
     ]
    },
    {
     "data": {
      "text/plain": [
       "<Figure size 432x288 with 0 Axes>"
      ]
     },
     "metadata": {},
     "output_type": "display_data"
    },
    {
     "data": {
      "text/plain": [
       "<Figure size 1440x720 with 0 Axes>"
      ]
     },
     "metadata": {},
     "output_type": "display_data"
    },
    {
     "data": {
      "text/plain": [
       "<Figure size 1440x720 with 0 Axes>"
      ]
     },
     "metadata": {},
     "output_type": "display_data"
    },
    {
     "data": {
      "text/plain": [
       "<Figure size 1440x720 with 0 Axes>"
      ]
     },
     "metadata": {},
     "output_type": "display_data"
    },
    {
     "data": {
      "text/plain": [
       "<Figure size 1440x720 with 0 Axes>"
      ]
     },
     "metadata": {},
     "output_type": "display_data"
    }
   ],
   "source": [
    "ptf.Analyse_Learning_Rates(analysis_name, lrs, percent_data, num_epochs=epochs, state=\"keep_none\"); "
   ]
  },
  {
   "cell_type": "code",
   "execution_count": 33,
   "metadata": {},
   "outputs": [
    {
     "name": "stdout",
     "output_type": "stream",
     "text": [
      "Update: Learning Rate - 0.005\n",
      "\n",
      "Pre-Composed Train Transforms\n",
      "[{'RandomHorizontalFlip': {'p': 0.8}}, {'Normalize': {'mean': [0.485, 0.456, 0.406], 'std': [0.229, 0.224, 0.225]}}]\n",
      "\n",
      "Pre-Composed Val Transforms\n",
      "[{'RandomHorizontalFlip': {'p': 0.8}}, {'Normalize': {'mean': [0.485, 0.456, 0.406], 'std': [0.229, 0.224, 0.225]}}]\n",
      "\n",
      "Dataset Numbers\n",
      "    Num train images: 11\n",
      "    Num val images:   10\n",
      "    Num classes:      2\n",
      "\n",
      "Model Details\n",
      "    Loading pretrained model\n",
      "    Model Loaded on device\n",
      "        Model name:                           densenet121\n",
      "        Num layers in model:  242\n",
      "        Num trainable layers: 1\n",
      "\n"
     ]
    }
   ],
   "source": [
    "## Update Learning Rate\n",
    "ptf.update_learning_rate(0.005);\n",
    "ptf.Reload();"
   ]
  },
  {
   "cell_type": "code",
   "execution_count": 34,
   "metadata": {},
   "outputs": [
    {
     "name": "stdout",
     "output_type": "stream",
     "text": [
      "Training Start\n",
      "    Epoch 1/2\n",
      "    ----------\n"
     ]
    },
    {
     "data": {
      "application/vnd.jupyter.widget-view+json": {
       "model_id": "c59277c54c024ecbb733c960ba6c4641",
       "version_major": 2,
       "version_minor": 0
      },
      "text/plain": [
       "HBox(children=(IntProgress(value=0, max=3), HTML(value='')))"
      ]
     },
     "metadata": {},
     "output_type": "display_data"
    },
    {
     "data": {
      "application/vnd.jupyter.widget-view+json": {
       "model_id": "cedf2d48e03144acb82cfa0b926d67ed",
       "version_major": 2,
       "version_minor": 0
      },
      "text/plain": [
       "HBox(children=(IntProgress(value=0, max=3), HTML(value='')))"
      ]
     },
     "metadata": {},
     "output_type": "display_data"
    },
    {
     "name": "stdout",
     "output_type": "stream",
     "text": [
      "\n",
      "\n",
      "    curr_lr - 1e-05\n",
      "    [Epoch 1] Train-acc: 0.273, Train-loss: 0.858 | Val-acc: 0.200000, Val-loss: 0.886, | time: 20.2 sec\n",
      "\n",
      "    Epoch 2/2\n",
      "    ----------\n"
     ]
    },
    {
     "data": {
      "application/vnd.jupyter.widget-view+json": {
       "model_id": "f3b0ab76cc42444ca7c450a6f6feaff6",
       "version_major": 2,
       "version_minor": 0
      },
      "text/plain": [
       "HBox(children=(IntProgress(value=0, max=3), HTML(value='')))"
      ]
     },
     "metadata": {},
     "output_type": "display_data"
    },
    {
     "data": {
      "application/vnd.jupyter.widget-view+json": {
       "model_id": "f885e1381f1b486d8f107e23a246924b",
       "version_major": 2,
       "version_minor": 0
      },
      "text/plain": [
       "HBox(children=(IntProgress(value=0, max=3), HTML(value='')))"
      ]
     },
     "metadata": {},
     "output_type": "display_data"
    },
    {
     "name": "stdout",
     "output_type": "stream",
     "text": [
      "Epoch    10: reducing learning rate of group 0 to 1.0000e-06.\n",
      "\n",
      "\n",
      "    curr_lr - 1.0000000000000002e-06\n",
      "    [Epoch 2] Train-acc: 0.182, Train-loss: 0.844 | Val-acc: 0.200000, Val-loss: 0.895, | time: 16.9 sec\n",
      "\n",
      "    Training completed in: 2m 7s\n",
      "    Best val Acc:          0.200000\n",
      "\n",
      "Training End\n",
      "\n",
      "Training Outputs\n",
      "    Model Dir:   /home/anjani/Desktop/AS DOC/iNeuron/Hyperparameter_tunning/keras-tuner/Monk_AI_Hyperparameter_tunning/workspace/dog-cat/exp1/output/models/\n",
      "    Log Dir:     /home/anjani/Desktop/AS DOC/iNeuron/Hyperparameter_tunning/keras-tuner/Monk_AI_Hyperparameter_tunning/workspace/dog-cat/exp1/output/logs/\n",
      "    Final model: final\n",
      "    Best model:  best_model\n",
      "    Log 1 - Validation accuracy history log: val_acc_history.npy\n",
      "    Log 2 - Validation loss history log:     val_loss_history.npy\n",
      "    Log 3 - Training accuracy history log:   train_acc_history.npy\n",
      "    Log 4 - Training loss history log:       train_loss_history.npy\n",
      "    Log 5 - Training curve:                  train_loss_history.npy\n",
      "    Log 6 - Validation curve:                train_loss_history.npy\n",
      "\n"
     ]
    },
    {
     "data": {
      "text/plain": [
       "<Figure size 432x288 with 0 Axes>"
      ]
     },
     "metadata": {},
     "output_type": "display_data"
    }
   ],
   "source": [
    "ptf.Train()"
   ]
  },
  {
   "cell_type": "markdown",
   "metadata": {},
   "source": [
    "### Optimiser Finder"
   ]
  },
  {
   "cell_type": "code",
   "execution_count": 29,
   "metadata": {},
   "outputs": [],
   "source": [
    "analysis_name = \"Optimiser_Finder\";"
   ]
  },
  {
   "cell_type": "code",
   "execution_count": 30,
   "metadata": {},
   "outputs": [],
   "source": [
    "optimizers = [\"sgd\", \"adam\", \"adamax\", \"rmsprop\"];   #Model name, learning rate"
   ]
  },
  {
   "cell_type": "code",
   "execution_count": 31,
   "metadata": {},
   "outputs": [],
   "source": [
    "epochs=5;\n",
    "percent_data=100;"
   ]
  },
  {
   "cell_type": "code",
   "execution_count": 32,
   "metadata": {},
   "outputs": [
    {
     "name": "stdout",
     "output_type": "stream",
     "text": [
      "\n",
      "Running Optimizer analysis\n",
      "Analysis Name      : Optimiser_Finder\n",
      "\n",
      "Running experiment : 1/4\n",
      "Experiment name    : Optimizer_sgd\n",
      "Estimated time     : 7 min\n",
      "Experiment Complete\n",
      "\n",
      "\n",
      "Running experiment : 2/4\n",
      "Experiment name    : Optimizer_adam\n",
      "Estimated time     : 9 min\n",
      "Experiment Complete\n",
      "\n",
      "\n",
      "Running experiment : 3/4\n",
      "Experiment name    : Optimizer_adamax\n",
      "Estimated time     : 10 min\n",
      "Epoch     4: reducing learning rate of group 0 to 1.0000e-05.\n",
      "Experiment Complete\n",
      "\n",
      "\n",
      "Running experiment : 4/4\n",
      "Experiment name    : Optimizer_rmsprop\n",
      "Estimated time     : 7 min\n",
      "Experiment Complete\n",
      "\n",
      "\n",
      "Comparing Experiments\n",
      "Comparison ID:      Comparison_Optimiser_Finder\n",
      "Generated statistics post all epochs\n",
      "| Experiment Name   |   Train Acc |   Val Acc |   Train Loss |   Val Loss |\n",
      "|-------------------+-------------+-----------+--------------+------------|\n",
      "| Optimizer_sgd     |    0.636364 |       0.8 |     0.601069 |   0.474291 |\n",
      "| Optimizer_adam    |    0.454545 |       0.6 |     0.72175  |   0.66019  |\n",
      "| Optimizer_adamax  |    0.636364 |       0.5 |     0.670188 |   0.72063  |\n",
      "| Optimizer_rmsprop |    0.818182 |       0.8 |     0.530343 |   0.493327 |\n",
      "\n"
     ]
    },
    {
     "data": {
      "text/plain": [
       "<Figure size 432x288 with 0 Axes>"
      ]
     },
     "metadata": {},
     "output_type": "display_data"
    },
    {
     "data": {
      "text/plain": [
       "<Figure size 1440x720 with 0 Axes>"
      ]
     },
     "metadata": {},
     "output_type": "display_data"
    },
    {
     "data": {
      "text/plain": [
       "<Figure size 1440x720 with 0 Axes>"
      ]
     },
     "metadata": {},
     "output_type": "display_data"
    },
    {
     "data": {
      "text/plain": [
       "<Figure size 1440x720 with 0 Axes>"
      ]
     },
     "metadata": {},
     "output_type": "display_data"
    },
    {
     "data": {
      "text/plain": [
       "<Figure size 1440x720 with 0 Axes>"
      ]
     },
     "metadata": {},
     "output_type": "display_data"
    }
   ],
   "source": [
    "ptf.Analyse_Optimizers(analysis_name, optimizers, percent_data, num_epochs=epochs, state=\"keep_none\"); "
   ]
  },
  {
   "cell_type": "code",
   "execution_count": null,
   "metadata": {},
   "outputs": [],
   "source": [
    "## Update Optimiser\n",
    "ptf.optimizer_adamax(0.001);\n",
    "ptf.Reload();"
   ]
  },
  {
   "cell_type": "code",
   "execution_count": null,
   "metadata": {},
   "outputs": [],
   "source": [
    "ptf.Train()"
   ]
  },
  {
   "cell_type": "code",
   "execution_count": null,
   "metadata": {},
   "outputs": [],
   "source": []
  },
  {
   "cell_type": "code",
   "execution_count": null,
   "metadata": {},
   "outputs": [],
   "source": []
  },
  {
   "cell_type": "code",
   "execution_count": null,
   "metadata": {},
   "outputs": [],
   "source": []
  }
 ],
 "metadata": {
  "kernelspec": {
   "display_name": "Python 3",
   "language": "python",
   "name": "python3"
  },
  "language_info": {
   "codemirror_mode": {
    "name": "ipython",
    "version": 3
   },
   "file_extension": ".py",
   "mimetype": "text/x-python",
   "name": "python",
   "nbconvert_exporter": "python",
   "pygments_lexer": "ipython3",
   "version": "3.7.1"
  }
 },
 "nbformat": 4,
 "nbformat_minor": 2
}
